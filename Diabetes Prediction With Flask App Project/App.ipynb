{
 "cells": [
  {
   "cell_type": "code",
   "execution_count": null,
   "id": "4db3e3ea",
   "metadata": {},
   "outputs": [
    {
     "name": "stdout",
     "output_type": "stream",
     "text": [
      " * Serving Flask app '__main__'\n",
      " * Debug mode: off\n"
     ]
    },
    {
     "name": "stderr",
     "output_type": "stream",
     "text": [
      "WARNING: This is a development server. Do not use it in a production deployment. Use a production WSGI server instead.\n",
      " * Running on http://127.0.0.1:5000\n",
      "Press CTRL+C to quit\n",
      "127.0.0.1 - - [01/Feb/2024 21:43:52] \"GET / HTTP/1.1\" 200 -\n",
      "127.0.0.1 - - [01/Feb/2024 21:43:56] \"GET / HTTP/1.1\" 200 -\n",
      "C:\\Users\\MIR FAISAL\\anaconda3\\Lib\\site-packages\\sklearn\\base.py:464: UserWarning: X does not have valid feature names, but StandardScaler was fitted with feature names\n",
      "  warnings.warn(\n",
      "C:\\Users\\MIR FAISAL\\anaconda3\\Lib\\site-packages\\sklearn\\base.py:464: UserWarning: X does not have valid feature names, but SVC was fitted with feature names\n",
      "  warnings.warn(\n",
      "127.0.0.1 - - [01/Feb/2024 21:44:52] \"POST / HTTP/1.1\" 200 -\n"
     ]
    }
   ],
   "source": [
    "from flask import Flask, request, render_template, flash\n",
    "\n",
    "import pickle\n",
    "\n",
    "app = Flask(__name__)\n",
    "app.config['SECRET_KEY'] = 'supersecret'\n",
    "\n",
    "scaler = pickle.load(open('scaler.pkl', 'rb'))\n",
    "model = pickle.load(open('svm_model.pkl', 'rb'))\n",
    "\n",
    "@app.route('/', methods=['GET', 'POST'])\n",
    "\n",
    "def home():\n",
    "    prediction = -1\n",
    "    if request.method == 'POST':\n",
    "        pregs = int(request.form.get('pregs'))\n",
    "        gluc = int(request.form.get('gluc'))\n",
    "        bp = int(request.form.get('bp'))\n",
    "        skin = int(request.form.get('skin'))\n",
    "        insulin = float(request.form.get('insulin'))\n",
    "        bmi = float(request.form.get('bmi'))\n",
    "        func = float(request.form.get('func'))\n",
    "        age = int(request.form.get('age'))\n",
    "\n",
    "        input_features = [[pregs, gluc, bp, skin, insulin, bmi, func, age]]\n",
    "        # print(input_features)\n",
    "        prediction = model.predict(scaler.transform(input_features))\n",
    "        # print(prediction)\n",
    "        \n",
    "    return render_template('index.html', prediction=prediction)\n",
    "\n",
    "if __name__ == '__main__':\n",
    "    app.run(debug=False)"
   ]
  },
  {
   "cell_type": "code",
   "execution_count": null,
   "id": "3526824f",
   "metadata": {},
   "outputs": [],
   "source": []
  }
 ],
 "metadata": {
  "kernelspec": {
   "display_name": "Python 3 (ipykernel)",
   "language": "python",
   "name": "python3"
  },
  "language_info": {
   "codemirror_mode": {
    "name": "ipython",
    "version": 3
   },
   "file_extension": ".py",
   "mimetype": "text/x-python",
   "name": "python",
   "nbconvert_exporter": "python",
   "pygments_lexer": "ipython3",
   "version": "3.11.5"
  }
 },
 "nbformat": 4,
 "nbformat_minor": 5
}
