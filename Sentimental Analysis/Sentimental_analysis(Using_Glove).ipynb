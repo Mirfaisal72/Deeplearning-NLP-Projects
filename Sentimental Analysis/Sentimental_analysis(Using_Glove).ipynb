{
 "cells": [
  {
   "cell_type": "markdown",
   "id": "1f408ef9-82ae-4690-8c3c-617797578a00",
   "metadata": {
    "id": "1f408ef9-82ae-4690-8c3c-617797578a00"
   },
   "source": [
    "# Installing the Dependencies"
   ]
  },
  {
   "cell_type": "code",
   "execution_count": 2,
   "id": "46353b0c-77b7-41f0-9892-6df379918e8f",
   "metadata": {
    "id": "46353b0c-77b7-41f0-9892-6df379918e8f"
   },
   "outputs": [
    {
     "name": "stdout",
     "output_type": "stream",
     "text": [
      "WARNING:tensorflow:From C:\\Users\\MIR FAISAL\\anaconda3\\Lib\\site-packages\\keras\\src\\losses.py:2976: The name tf.losses.sparse_softmax_cross_entropy is deprecated. Please use tf.compat.v1.losses.sparse_softmax_cross_entropy instead.\n",
      "\n"
     ]
    }
   ],
   "source": [
    "import pandas as pd\n",
    "import numpy as np\n",
    "import re\n",
    "import nltk\n",
    "import tensorflow\n",
    "from nltk.corpus import stopwords\n",
    "from numpy import array\n",
    "from keras import layers\n",
    "from keras.preprocessing.text import one_hot, Tokenizer\n",
    "from keras.preprocessing.sequence import pad_sequences\n",
    "from keras.models import Sequential\n",
    "from keras.layers import Activation, Dropout, Dense\n",
    "from keras.layers import Flatten, GlobalMaxPooling1D, Embedding, Conv1D, LSTM\n",
    "from sklearn.model_selection import train_test_split"
   ]
  },
  {
   "cell_type": "markdown",
   "id": "nB7rzJomg_M1",
   "metadata": {
    "id": "nB7rzJomg_M1"
   },
   "source": [
    "# Loading Dataset"
   ]
  },
  {
   "cell_type": "code",
   "execution_count": 3,
   "id": "d7cfccb0-20d4-4eea-9ab6-3213155b48ff",
   "metadata": {
    "id": "d7cfccb0-20d4-4eea-9ab6-3213155b48ff"
   },
   "outputs": [],
   "source": [
    "movie_reviews = pd.read_csv(\"a1_IMDB_Dataset.csv\")"
   ]
  },
  {
   "cell_type": "code",
   "execution_count": 4,
   "id": "e8a616df-0f54-40de-a80a-8496f72c9a53",
   "metadata": {
    "colab": {
     "base_uri": "https://localhost:8080/"
    },
    "id": "e8a616df-0f54-40de-a80a-8496f72c9a53",
    "outputId": "64635fb5-7c83-4988-9f67-3742efd061ce"
   },
   "outputs": [
    {
     "data": {
      "text/plain": [
       "(50000, 2)"
      ]
     },
     "execution_count": 4,
     "metadata": {},
     "output_type": "execute_result"
    }
   ],
   "source": [
    "\n",
    "movie_reviews.shape"
   ]
  },
  {
   "cell_type": "code",
   "execution_count": 5,
   "id": "Gn0LUu6lfx6g",
   "metadata": {
    "colab": {
     "base_uri": "https://localhost:8080/",
     "height": 206
    },
    "id": "Gn0LUu6lfx6g",
    "outputId": "95827607-886f-41e8-e885-26565dd5413d"
   },
   "outputs": [
    {
     "data": {
      "text/html": [
       "<div>\n",
       "<style scoped>\n",
       "    .dataframe tbody tr th:only-of-type {\n",
       "        vertical-align: middle;\n",
       "    }\n",
       "\n",
       "    .dataframe tbody tr th {\n",
       "        vertical-align: top;\n",
       "    }\n",
       "\n",
       "    .dataframe thead th {\n",
       "        text-align: right;\n",
       "    }\n",
       "</style>\n",
       "<table border=\"1\" class=\"dataframe\">\n",
       "  <thead>\n",
       "    <tr style=\"text-align: right;\">\n",
       "      <th></th>\n",
       "      <th>review</th>\n",
       "      <th>sentiment</th>\n",
       "    </tr>\n",
       "  </thead>\n",
       "  <tbody>\n",
       "    <tr>\n",
       "      <th>0</th>\n",
       "      <td>One of the other reviewers has mentioned that ...</td>\n",
       "      <td>positive</td>\n",
       "    </tr>\n",
       "    <tr>\n",
       "      <th>1</th>\n",
       "      <td>A wonderful little production. &lt;br /&gt;&lt;br /&gt;The...</td>\n",
       "      <td>positive</td>\n",
       "    </tr>\n",
       "    <tr>\n",
       "      <th>2</th>\n",
       "      <td>I thought this was a wonderful way to spend ti...</td>\n",
       "      <td>positive</td>\n",
       "    </tr>\n",
       "    <tr>\n",
       "      <th>3</th>\n",
       "      <td>Basically there's a family where a little boy ...</td>\n",
       "      <td>negative</td>\n",
       "    </tr>\n",
       "    <tr>\n",
       "      <th>4</th>\n",
       "      <td>Petter Mattei's \"Love in the Time of Money\" is...</td>\n",
       "      <td>positive</td>\n",
       "    </tr>\n",
       "  </tbody>\n",
       "</table>\n",
       "</div>"
      ],
      "text/plain": [
       "                                              review sentiment\n",
       "0  One of the other reviewers has mentioned that ...  positive\n",
       "1  A wonderful little production. <br /><br />The...  positive\n",
       "2  I thought this was a wonderful way to spend ti...  positive\n",
       "3  Basically there's a family where a little boy ...  negative\n",
       "4  Petter Mattei's \"Love in the Time of Money\" is...  positive"
      ]
     },
     "execution_count": 5,
     "metadata": {},
     "output_type": "execute_result"
    }
   ],
   "source": [
    "movie_reviews.head()"
   ]
  },
  {
   "cell_type": "code",
   "execution_count": 6,
   "id": "cK55Dgvff2CU",
   "metadata": {
    "colab": {
     "base_uri": "https://localhost:8080/",
     "height": 466
    },
    "id": "cK55Dgvff2CU",
    "outputId": "3c78d20f-5eb7-4104-b3f5-1450bfedde70"
   },
   "outputs": [
    {
     "data": {
      "text/plain": [
       "<Axes: xlabel='sentiment', ylabel='count'>"
      ]
     },
     "execution_count": 6,
     "metadata": {},
     "output_type": "execute_result"
    },
    {
     "data": {
      "image/png": "[encoded data removed]",
      "text/plain": [
       "<Figure size 640x480 with 1 Axes>"
      ]
     },
     "metadata": {},
     "output_type": "display_data"
    }
   ],
   "source": [
    "import seaborn as sns\n",
    "sns.countplot(x= 'sentiment', data = movie_reviews)"
   ]
  },
  {
   "cell_type": "markdown",
   "id": "44DKKfsDhDge",
   "metadata": {
    "id": "44DKKfsDhDge"
   },
   "source": [
    "# Preprocessing The Data"
   ]
  },
  {
   "cell_type": "code",
   "execution_count": 7,
   "id": "KkRpr7W8gf6H",
   "metadata": {
    "colab": {
     "base_uri": "https://localhost:8080/",
     "height": 86
    },
    "id": "KkRpr7W8gf6H",
    "outputId": "7f09ba1d-23f7-45ba-e32f-5e5af21c56cf"
   },
   "outputs": [
    {
     "data": {
      "text/plain": [
       "\"Basically there's a family where a little boy (Jake) thinks there's a zombie in his closet & his parents are fighting all the time.<br /><br />This movie is slower than a soap opera... and suddenly, Jake decides to become Rambo and kill the zombie.<br /><br />OK, first of all when you're going to make a film you must Decide if its a thriller or a drama! As a drama the movie is watchable. Parents are divorcing & arguing like in real life. And then we have Jake with his closet which totally ruins all the film! I expected to see a BOOGEYMAN similar movie, and instead i watched a drama with some meaningless thriller spots.<br /><br />3 out of 10 just for the well playing parents & descent dialogs. As for the shots with Jake: just ignore them.\""
      ]
     },
     "execution_count": 7,
     "metadata": {},
     "output_type": "execute_result"
    }
   ],
   "source": [
    "movie_reviews['review'][3]\n",
    "#As we can see the review contains HTML tags , numbers , Punctuations which can be a problem for Neural Network"
   ]
  },
  {
   "cell_type": "code",
   "execution_count": 8,
   "id": "rkk4I0-4kC9G",
   "metadata": {
    "id": "rkk4I0-4kC9G"
   },
   "outputs": [],
   "source": [
    "#Removing the HTML tags\n",
    "regex_object = re.compile(r'<[^>]+>')\n",
    "def remove_tags(text):\n",
    "  \"Removes html tags by replacing anything between < and > by a whitespace \"\n",
    "  return regex_object.sub('',text)"
   ]
  },
  {
   "cell_type": "code",
   "execution_count": 9,
   "id": "h-x9h5tAkjzS",
   "metadata": {
    "colab": {
     "base_uri": "https://localhost:8080/"
    },
    "id": "h-x9h5tAkjzS",
    "outputId": "91590b6f-9e56-4ec3-a454-c7d51d488f88"
   },
   "outputs": [
    {
     "name": "stderr",
     "output_type": "stream",
     "text": [
      "[nltk_data] Downloading package stopwords to C:\\Users\\MIR\n",
      "[nltk_data]     FAISAL\\AppData\\Roaming\\nltk_data...\n",
      "[nltk_data]   Package stopwords is already up-to-date!\n"
     ]
    },
    {
     "data": {
      "text/plain": [
       "True"
      ]
     },
     "execution_count": 9,
     "metadata": {},
     "output_type": "execute_result"
    }
   ],
   "source": [
    "nltk.download('stopwords')"
   ]
  },
  {
   "cell_type": "code",
   "execution_count": 10,
   "id": "18fdPwHlmYCi",
   "metadata": {
    "id": "18fdPwHlmYCi"
   },
   "outputs": [],
   "source": [
    "def preprocess_text(sen):\n",
    "    '''Cleans text data up, leaving only 2 or more char long non-stepwords composed of A-Z & a-z only\n",
    "    in lowercase'''\n",
    "\n",
    "    sentence = sen.lower()\n",
    "\n",
    "    # Remove html tags\n",
    "    sentence = remove_tags(sentence)\n",
    "\n",
    "    # Remove punctuations and numbers\n",
    "    sentence = re.sub('[^a-zA-Z]', ' ', sentence)\n",
    "\n",
    "    # Single character removal\n",
    "    sentence = re.sub(r\"\\s+[a-zA-Z]\\s+\", ' ', sentence)  # When we remove apostrophe from the word \"Mark's\", the apostrophe is replaced by an empty space. Hence, we are left with single character \"s\" that we are removing here.\n",
    "\n",
    "    # Remove multiple spaces\n",
    "    sentence = re.sub(r'\\s+', ' ', sentence)  # Next, we remove all the single characters and replace it by a space which creates multiple spaces in our text. Finally, we remove the multiple spaces from our text as well.\n",
    "\n",
    "    # Remove Stopwords\n",
    "    pattern = re.compile(r'\\b(' + r'|'.join(stopwords.words('english')) + r')\\b\\s*')\n",
    "    sentence = pattern.sub('', sentence)\n",
    "\n",
    "    return sentence"
   ]
  },
  {
   "cell_type": "code",
   "execution_count": 11,
   "id": "CHnzdDUEoFm6",
   "metadata": {
    "id": "CHnzdDUEoFm6"
   },
   "outputs": [],
   "source": [
    "X = []\n",
    "sentences = list(movie_reviews['review'])\n",
    "for sen in sentences:\n",
    "  cleaned_text = preprocess_text(sen)\n",
    "  X.append(cleaned_text)"
   ]
  },
  {
   "cell_type": "code",
   "execution_count": 12,
   "id": "QYZGDGBWpF41",
   "metadata": {
    "colab": {
     "base_uri": "https://localhost:8080/",
     "height": 69
    },
    "id": "QYZGDGBWpF41",
    "outputId": "0689c221-ad11-431d-8806-57ac170317bc"
   },
   "outputs": [
    {
     "data": {
      "text/plain": [
       "'basically family little boy jake thinks zombie closet parents fighting time movie slower soap opera suddenly jake decides become rambo kill zombie ok first going make film must decide thriller drama drama movie watchable parents divorcing arguing like real life jake closet totally ruins film expected see boogeyman similar movie instead watched drama meaningless thriller spots well playing parents descent dialogs shots jake ignore '"
      ]
     },
     "execution_count": 12,
     "metadata": {},
     "output_type": "execute_result"
    }
   ],
   "source": [
    "#Sample Cleaned Up movie review\n",
    "X[3]"
   ]
  },
  {
   "cell_type": "code",
   "execution_count": 13,
   "id": "R1MWigJ0pnI5",
   "metadata": {
    "colab": {
     "base_uri": "https://localhost:8080/"
    },
    "id": "R1MWigJ0pnI5",
    "outputId": "388e3d43-7754-4ead-9780-80acea5f7f1e"
   },
   "outputs": [
    {
     "name": "stdout",
     "output_type": "stream",
     "text": [
      "[1 1 1 ... 0 0 0]\n"
     ]
    }
   ],
   "source": [
    "#Converting Sentiment labels to 0 & 1\n",
    "y = movie_reviews['sentiment']\n",
    "lambda x : 1 if x== 'positive' else 0\n",
    "y = np.array(list(map(lambda x : 1 if x== 'positive' else 0,y)))\n",
    "print(y)"
   ]
  },
  {
   "cell_type": "code",
   "execution_count": 14,
   "id": "KF7AfvN1u0DD",
   "metadata": {
    "id": "KF7AfvN1u0DD"
   },
   "outputs": [],
   "source": [
    "X_train , X_test, y_train, y_test = train_test_split(X,y,test_size = 0.20,random_state =42 )"
   ]
  },
  {
   "cell_type": "markdown",
   "id": "A8cfMWLGxFDk",
   "metadata": {
    "id": "A8cfMWLGxFDk"
   },
   "source": [
    "# Preparing Embedding Layer"
   ]
  },
  {
   "cell_type": "code",
   "execution_count": 15,
   "id": "lYP22OkvxB3Y",
   "metadata": {
    "id": "lYP22OkvxB3Y"
   },
   "outputs": [],
   "source": [
    "# Embedding layer expects the words to be in numeric form\n",
    "# Using Tokenizer function from keras.preprocessing.text library\n",
    "# Method fit_on_text trains the tokenizer\n",
    "# Method texts_to_sequences converts sentences to their numeric form\n",
    "\n",
    "from keras.preprocessing.text import Tokenizer\n",
    "tokenizer_object = Tokenizer()\n",
    "tokenizer_object.fit_on_texts(X_train)\n",
    "X_train = tokenizer_object.texts_to_sequences(X_train)\n",
    "X_test = tokenizer_object.texts_to_sequences(X_test)\n"
   ]
  },
  {
   "cell_type": "code",
   "execution_count": 16,
   "id": "EjR0UbdxWhQy",
   "metadata": {
    "colab": {
     "base_uri": "https://localhost:8080/"
    },
    "id": "EjR0UbdxWhQy",
    "outputId": "22859975-3ee7-408a-dfa6-1234287fff3d"
   },
   "outputs": [
    {
     "data": {
      "text/plain": [
       "92394"
      ]
     },
     "execution_count": 16,
     "metadata": {},
     "output_type": "execute_result"
    }
   ],
   "source": [
    "# +1 is added for adding an extra dimension of words that are not in the vocabulary\n",
    "vocab_length  = len(tokenizer_object.word_index) + 1 # word index returns a dictionary where each key is a word and its value is its index\n",
    "vocab_length"
   ]
  },
  {
   "cell_type": "code",
   "execution_count": 17,
   "id": "Q9zuBiBZddoM",
   "metadata": {
    "id": "Q9zuBiBZddoM"
   },
   "outputs": [],
   "source": [
    "#padding all reviews to fixed length\n",
    "max_len = 100\n",
    "X_train = pad_sequences(X_train, padding = 'post', maxlen = max_len)\n",
    "X_test = pad_sequences(X_test, padding = 'post', maxlen = max_len)\n"
   ]
  },
  {
   "cell_type": "code",
   "execution_count": 18,
   "id": "uLFplZ6weL3g",
   "metadata": {
    "id": "uLFplZ6weL3g"
   },
   "outputs": [],
   "source": [
    "# Loading Glove Word Embedding and Creating a Embedding dictionary\n",
    "from numpy import asarray\n",
    "embedding_dict = dict()\n",
    "glove_file = open('a2_glove.6B.100d.txt', encoding = \"utf8\")\n",
    "for line in glove_file:\n",
    "  records = line.split()\n",
    "  word = records[0]\n",
    "  vector_dimensions = asarray(records[1:],dtype = 'float32')\n",
    "  embedding_dict[word] = vector_dimensions\n",
    "glove_file.close()"
   ]
  },
  {
   "cell_type": "code",
   "execution_count": 19,
   "id": "x7Luvq52u48I",
   "metadata": {
    "id": "x7Luvq52u48I"
   },
   "outputs": [],
   "source": [
    "# Create Embedding Matrix having 100 columns\n",
    "# Containing 100-dimensional GloVe word embeddings for all words in our corpus.\n",
    "# 100 Features of each Word\n",
    "\n",
    "from numpy import zeros\n",
    "embedding_matrix = zeros((vocab_length,100))\n",
    "for word , index in tokenizer_object.word_index.items(): #.word_index returns a dictionary of keys and their corresponding indexes and . items displays the key and index pairs\n",
    "  embedding_vector = embedding_dict.get(word)\n",
    "  if embedding_vector is not None:\n",
    "    embedding_matrix[index] = embedding_vector"
   ]
  },
  {
   "cell_type": "code",
   "execution_count": 20,
   "id": "fhf65G7-wgOH",
   "metadata": {
    "colab": {
     "base_uri": "https://localhost:8080/"
    },
    "id": "fhf65G7-wgOH",
    "outputId": "0de1bb87-d358-4182-c2c0-a6f13e2f00c2"
   },
   "outputs": [
    {
     "name": "stdout",
     "output_type": "stream",
     "text": [
      "The embedding matrix has a shape of  (92394, 100)\n"
     ]
    }
   ],
   "source": [
    "print(\"The embedding matrix has a shape of \", embedding_matrix.shape)"
   ]
  },
  {
   "cell_type": "code",
   "execution_count": 21,
   "id": "5w5M46i_xSiw",
   "metadata": {
    "colab": {
     "base_uri": "https://localhost:8080/"
    },
    "id": "5w5M46i_xSiw",
    "outputId": "d89071fd-9a82-4cb9-8c11-61aa05530863"
   },
   "outputs": [
    {
     "name": "stdout",
     "output_type": "stream",
     "text": [
      "word at index1: [ 0.38251001  0.14821     0.60601002 -0.51533002  0.43992001  0.061053\n",
      " -0.62716001 -0.025385    0.16429999 -0.22101     0.14422999 -0.37213001\n",
      " -0.21683    -0.08895     0.097904    0.65609998  0.64455003  0.47698\n",
      "  0.83849001  1.64859998  0.88922    -0.1181     -0.012465   -0.52082002\n",
      "  0.77854002  0.48723    -0.014991   -0.14127    -0.34746999 -0.29595\n",
      "  0.1028      0.57191002 -0.045594    0.026443    0.53816003  0.32257\n",
      "  0.40788001 -0.043599   -0.146      -0.48346001  0.32036     0.55085999\n",
      " -0.76258999  0.43268999  0.61752999 -0.36502999 -0.60598999 -0.79615003\n",
      "  0.39289999 -0.23668    -0.34718999 -0.61201     0.54746997  0.94812\n",
      "  0.20941    -2.77710009 -0.60219997  0.8495      1.25489998  0.017893\n",
      " -0.041901    2.11470008 -0.026618   -0.28104001  0.68124002 -0.14165001\n",
      "  0.99248999  0.49879    -0.67537999  0.64170003  0.42302999 -0.27913001\n",
      "  0.063403    0.68909001 -0.36183     0.053709   -0.16806     0.19422001\n",
      " -0.47073001 -0.14803    -0.58986002 -0.27970001  0.16791999  0.10568\n",
      " -1.76010001  0.0088254  -0.83326    -0.58359998 -0.37079    -0.56590998\n",
      "  0.20699     0.071315    0.055586   -0.29756999 -0.072659   -0.25595999\n",
      "  0.42688     0.058921    0.091112    0.47283   ]\n",
      "word at index2: [ 0.19915999 -0.049702    0.24579    -0.32280999  0.89767998 -0.1278\n",
      " -0.49506     0.20814    -0.20046    -0.20603999  0.038292   -0.67277002\n",
      " -0.12689    -0.18765999 -0.10277     0.73128003  0.82407999  0.087288\n",
      "  0.69255     1.31070006  0.49112999 -0.38097     0.24338    -0.27812999\n",
      "  0.62506002  0.35978001  0.42041001 -0.24529     0.14861    -0.26725999\n",
      " -0.56261998  0.63843    -0.54153001  0.36537001  0.20545    -0.16604\n",
      "  0.72434002  0.29960999 -0.42501    -0.35932001 -0.089288    0.48752001\n",
      " -1.0927      0.88818002  0.89941001 -0.75410002 -0.35492    -0.76396\n",
      "  0.27467999  0.2757     -0.48152    -0.41398999  0.64489001  1.148\n",
      " -0.29131001 -2.93869996 -0.83161998  0.95586002  1.16229999 -0.42502001\n",
      "  0.15486     2.23259997 -0.31338999 -0.030228    0.79802001 -0.41302001\n",
      "  0.72885001  0.72960001 -0.31909001  0.89560002  0.34625     0.29229999\n",
      "  0.40055999  0.78985    -0.43999001  0.24698    -0.46548     0.055886\n",
      " -0.62603003 -0.036487   -0.65429002  0.10563     0.17434999  0.35466\n",
      " -1.94029999 -0.022502   -0.73019999 -0.63042003 -0.032799   -0.43952999\n",
      " -0.07239    -0.44874999 -0.074689   -0.14426     0.19251999  0.27107999\n",
      "  0.20325001 -0.068109    0.017651    0.06455   ]\n",
      "word at index3: [-0.22556999  0.49417999  0.48609999 -0.4332      0.13738     0.50616997\n",
      "  0.26058     0.30103001 -0.091486    0.10876     0.30579999  0.051028\n",
      "  0.22303     0.054236    0.068838   -0.24700999  0.32688999 -0.082203\n",
      " -0.28865999  0.3734      0.73803997 -0.040969    0.040201    0.11384\n",
      "  0.69986999 -0.49744999 -0.06755    -0.42598999 -0.10725    -0.010697\n",
      " -0.01479     0.55975997  0.3064      0.053053    0.058034    0.32756001\n",
      " -0.37233001  0.46513     0.14285    -0.085003   -0.45475999  0.19773\n",
      "  0.6383     -0.31147999  0.10858     0.31557     0.36682001 -0.35135001\n",
      " -0.48414001 -0.33234999 -0.33816001 -0.39678001  0.1908      1.3513\n",
      " -0.39043999 -2.87949991 -0.14275999 -0.087754    1.77129996  0.99331999\n",
      " -0.14128999  0.94388998  0.050897    0.47373     0.86387002 -0.16162001\n",
      "  0.67198998  0.52344     0.14438    -0.055194   -0.34669    -0.20742001\n",
      "  0.18907    -0.19845     0.34862     0.10121    -0.092119   -0.66258001\n",
      " -1.0582     -0.11803     0.70170999  0.077776   -0.50546002  0.032243\n",
      " -1.61759996 -0.29302001 -0.061748   -0.32473001  0.3439     -0.44698\n",
      "  0.085689    0.13294999 -0.1807     -0.11854    -0.82985002  0.13784\n",
      " -0.34358999 -0.45743999  0.49645999  0.34906   ]\n",
      "word at index4: [-0.2687      0.81708002  0.69896001 -0.72341001  0.091566    0.19557001\n",
      " -0.52112001 -0.24313    -0.44701001 -0.27039    -0.34125999 -0.46898001\n",
      "  0.42583001  0.46289     0.17106    -0.26795     0.23162     0.46568\n",
      " -0.31808001  0.75875002  0.31856999  0.64124     0.067042   -0.18516999\n",
      "  0.49996001  0.36963999 -0.31172001 -0.73097998 -0.26901999 -0.32058001\n",
      "  0.23394001  0.24276     0.1426     -0.2793      0.38823     0.42398\n",
      "  0.1021      0.33316001  0.30149999 -0.52710998 -0.024475   -0.15301\n",
      " -0.3224     -0.51231003 -0.55250001  0.29819     0.10847     0.052334\n",
      " -0.2298     -0.77889001 -0.08928     0.48109001  0.015368    0.92544001\n",
      " -0.26122001 -2.47589993 -0.019825    0.58280998  1.30599999  0.73512\n",
      " -0.34371999  1.58290005 -0.10814     0.11388     0.79220003  0.18347\n",
      "  1.22319996  0.35697001  0.17504001 -0.16527    -0.012827   -0.47918001\n",
      " -0.32111001 -0.40573001 -0.37151     0.086323    0.25172001 -0.082751\n",
      " -0.25584    -0.19178     1.0474     -0.51984    -0.71463001  0.38826999\n",
      " -1.67219996  0.015986   -0.22668    -0.26602    -0.57924998 -0.85650998\n",
      "  0.20543    -0.46371999 -0.065652   -0.061944   -0.57233    -0.46406001\n",
      " -0.41405001 -0.40110001  0.74656999  0.31121999]\n",
      "word at index5: [-0.030769    0.11993     0.53908998 -0.43696001 -0.73936999 -0.15345\n",
      "  0.081126   -0.38558999 -0.68796998 -0.41632    -0.13183001 -0.24922\n",
      "  0.44100001  0.085919    0.20871    -0.063582    0.062228   -0.051234\n",
      " -0.13398001  1.14180005  0.036526    0.49028999 -0.24567001 -0.412\n",
      "  0.12349     0.41336    -0.48396999 -0.54242998 -0.27787    -0.26014999\n",
      " -0.38485     0.78656     0.1023     -0.20712     0.40751001  0.32025999\n",
      " -0.51051998  0.48361999 -0.0099498  -0.38685     0.034975   -0.167\n",
      "  0.4237     -0.54163998 -0.30322999 -0.36983001  0.082836   -0.52538002\n",
      " -0.064531   -1.398      -0.14872999 -0.35326999 -0.1118      1.09119999\n",
      "  0.095864   -2.81290007  0.45238     0.46213001  1.60119998 -0.20837\n",
      " -0.27377     0.71196997 -1.07539999 -0.046974    0.67479002 -0.065839\n",
      "  0.75823998  0.39405     0.15507001 -0.64718997  0.32796001 -0.031748\n",
      "  0.52898997 -0.43886     0.67404997  0.42135999 -0.11981    -0.21777\n",
      " -0.29756001 -0.13510001  0.59898001  0.46529001 -0.58257997 -0.02323\n",
      " -1.54419994  0.01901    -0.015877    0.024499   -0.58016998 -0.67659003\n",
      " -0.040379   -0.44042999  0.083292    0.20035    -0.75498998  0.16918001\n",
      " -0.26572999 -0.52877998  0.17584001  1.06500006]\n"
     ]
    }
   ],
   "source": [
    "for i in range(1,6):\n",
    "  row_representation = f\"word at index{i}: {embedding_matrix[i]}\"\n",
    "  print(row_representation)\n",
    " # Displaying the first few rows and columns for illustration"
   ]
  },
  {
   "cell_type": "markdown",
   "id": "1YfIoc2izj16",
   "metadata": {
    "id": "1YfIoc2izj16"
   },
   "source": [
    "# MODEL TRAINING WITH:"
   ]
  },
  {
   "cell_type": "markdown",
   "id": "qv5sXP4fztE0",
   "metadata": {
    "id": "qv5sXP4fztE0"
   },
   "source": [
    "# Simple Neural Network:"
   ]
  },
  {
   "cell_type": "code",
   "execution_count": 22,
   "id": "C3ZRhoV1x7ka",
   "metadata": {
    "id": "C3ZRhoV1x7ka"
   },
   "outputs": [
    {
     "name": "stdout",
     "output_type": "stream",
     "text": [
      "WARNING:tensorflow:From C:\\Users\\MIR FAISAL\\anaconda3\\Lib\\site-packages\\keras\\src\\backend.py:873: The name tf.get_default_graph is deprecated. Please use tf.compat.v1.get_default_graph instead.\n",
      "\n"
     ]
    }
   ],
   "source": [
    "snn_model = Sequential()\n",
    "embedding_layer = Embedding(vocab_length,100,weights = [embedding_matrix],input_length= max_len,trainable = False)\n",
    "snn_model.add(embedding_layer)\n",
    "snn_model.add(Flatten())\n",
    "snn_model.add(Dense(1,activation = 'sigmoid'))\n"
   ]
  },
  {
   "cell_type": "code",
   "execution_count": 23,
   "id": "KaP3uYBC80yP",
   "metadata": {
    "colab": {
     "base_uri": "https://localhost:8080/"
    },
    "id": "KaP3uYBC80yP",
    "outputId": "768040b3-732f-4df0-b48a-64fd2be83e93"
   },
   "outputs": [
    {
     "name": "stdout",
     "output_type": "stream",
     "text": [
      "WARNING:tensorflow:From C:\\Users\\MIR FAISAL\\anaconda3\\Lib\\site-packages\\keras\\src\\optimizers\\__init__.py:309: The name tf.train.Optimizer is deprecated. Please use tf.compat.v1.train.Optimizer instead.\n",
      "\n",
      "Model: \"sequential\"\n",
      "_________________________________________________________________\n",
      " Layer (type)                Output Shape              Param #   \n",
      "=================================================================\n",
      " embedding (Embedding)       (None, 100, 100)          9239400   \n",
      "                                                                 \n",
      " flatten (Flatten)           (None, 10000)             0         \n",
      "                                                                 \n",
      " dense (Dense)               (None, 1)                 10001     \n",
      "                                                                 \n",
      "=================================================================\n",
      "Total params: 9249401 (35.28 MB)\n",
      "Trainable params: 10001 (39.07 KB)\n",
      "Non-trainable params: 9239400 (35.25 MB)\n",
      "_________________________________________________________________\n",
      "None\n"
     ]
    }
   ],
   "source": [
    "snn_model.compile(optimizer = 'adam', loss = 'binary_crossentropy', metrics = ['acc'])\n",
    "print(snn_model.summary())"
   ]
  },
  {
   "cell_type": "code",
   "execution_count": 24,
   "id": "09j2T__-_XfJ",
   "metadata": {
    "colab": {
     "base_uri": "https://localhost:8080/"
    },
    "id": "09j2T__-_XfJ",
    "outputId": "33ddb93e-e889-42b9-d10d-2ab96d66e168"
   },
   "outputs": [
    {
     "name": "stdout",
     "output_type": "stream",
     "text": [
      "Epoch 1/6\n",
      "WARNING:tensorflow:From C:\\Users\\MIR FAISAL\\anaconda3\\Lib\\site-packages\\keras\\src\\utils\\tf_utils.py:492: The name tf.ragged.RaggedTensorValue is deprecated. Please use tf.compat.v1.ragged.RaggedTensorValue instead.\n",
      "\n",
      "WARNING:tensorflow:From C:\\Users\\MIR FAISAL\\anaconda3\\Lib\\site-packages\\keras\\src\\engine\\base_layer_utils.py:384: The name tf.executing_eagerly_outside_functions is deprecated. Please use tf.compat.v1.executing_eagerly_outside_functions instead.\n",
      "\n",
      "250/250 [==============================] - 3s 9ms/step - loss: 0.5579 - acc: 0.7128 - val_loss: 0.5131 - val_acc: 0.7465\n",
      "Epoch 2/6\n",
      "250/250 [==============================] - 2s 7ms/step - loss: 0.4485 - acc: 0.7948 - val_loss: 0.4991 - val_acc: 0.7650\n",
      "Epoch 3/6\n",
      "250/250 [==============================] - 2s 9ms/step - loss: 0.4120 - acc: 0.8162 - val_loss: 0.5101 - val_acc: 0.7630\n",
      "Epoch 4/6\n",
      "250/250 [==============================] - 2s 9ms/step - loss: 0.3899 - acc: 0.8292 - val_loss: 0.5176 - val_acc: 0.7549\n",
      "Epoch 5/6\n",
      "250/250 [==============================] - 2s 9ms/step - loss: 0.3744 - acc: 0.8368 - val_loss: 0.5429 - val_acc: 0.7533\n",
      "Epoch 6/6\n",
      "250/250 [==============================] - 2s 7ms/step - loss: 0.3614 - acc: 0.8438 - val_loss: 0.5298 - val_acc: 0.7575\n"
     ]
    }
   ],
   "source": [
    "snn_model_history = snn_model.fit(X_train, y_train, batch_size = 128,epochs = 6 , verbose = 1,validation_split = 0.2)"
   ]
  },
  {
   "cell_type": "code",
   "execution_count": 25,
   "id": "WE2qT2CYAaXl",
   "metadata": {
    "id": "WE2qT2CYAaXl"
   },
   "outputs": [
    {
     "name": "stdout",
     "output_type": "stream",
     "text": [
      "313/313 [==============================] - 1s 3ms/step - loss: 0.5559 - acc: 0.7491\n"
     ]
    }
   ],
   "source": [
    "score = snn_model.evaluate(X_test, y_test, verbose=1)"
   ]
  },
  {
   "cell_type": "code",
   "execution_count": 26,
   "id": "VWa5FNM3AwJt",
   "metadata": {
    "id": "VWa5FNM3AwJt"
   },
   "outputs": [
    {
     "name": "stdout",
     "output_type": "stream",
     "text": [
      "Test Score: 0.5559400916099548\n",
      "Test Accuracy: 0.7491000294685364\n"
     ]
    }
   ],
   "source": [
    "print(\"Test Score:\", score[0])\n",
    "print(\"Test Accuracy:\", score[1])"
   ]
  },
  {
   "cell_type": "code",
   "execution_count": 27,
   "id": "nxCCUM5KA5la",
   "metadata": {
    "id": "nxCCUM5KA5la"
   },
   "outputs": [
    {
     "data": {
      "image/png": "[encoded data removed]",
      "text/plain": [
       "<Figure size 640x480 with 1 Axes>"
      ]
     },
     "metadata": {},
     "output_type": "display_data"
    },
    {
     "data": {
      "text/plain": [
       "<function matplotlib.pyplot.show(close=None, block=None)>"
      ]
     },
     "execution_count": 27,
     "metadata": {},
     "output_type": "execute_result"
    },
    {
     "data": {
      "image/png": "[encoded data removed]",
      "text/plain": [
       "<Figure size 640x480 with 1 Axes>"
      ]
     },
     "metadata": {},
     "output_type": "display_data"
    }
   ],
   "source": [
    "#Model Performance Chart\n",
    "import matplotlib.pyplot as plt\n",
    "plt.plot(snn_model_history.history['acc'])\n",
    "plt.plot(snn_model_history.history['val_acc'])\n",
    "plt.title('Model Accuracy')\n",
    "plt.xlabel('Epochs')\n",
    "plt.ylabel('Accuracy')\n",
    "plt.legend(['train','test'], loc='upper left')\n",
    "plt.show()\n",
    "\n",
    "plt.plot(snn_model_history.history['loss'])\n",
    "plt.plot(snn_model_history.history['val_loss'])\n",
    "plt.title('Model Loss')\n",
    "plt.xlabel('Epochs')\n",
    "plt.ylabel('Accuracy')\n",
    "plt.legend(['train','test'], loc = 'upper left')\n",
    "plt.show"
   ]
  },
  {
   "cell_type": "code",
   "execution_count": 28,
   "id": "wm2mE70aCLlO",
   "metadata": {
    "id": "wm2mE70aCLlO"
   },
   "outputs": [
    {
     "name": "stdout",
     "output_type": "stream",
     "text": [
      "313/313 [==============================] - 1s 2ms/step\n"
     ]
    }
   ],
   "source": [
    "prediction = snn_model.predict(X_test)\n"
   ]
  },
  {
   "cell_type": "code",
   "execution_count": 29,
   "id": "fDZamKLhJeUM",
   "metadata": {
    "id": "fDZamKLhJeUM"
   },
   "outputs": [
    {
     "name": "stdout",
     "output_type": "stream",
     "text": [
      "1/1 [==============================] - 0s 31ms/step\n",
      "[[0.6840465]]\n"
     ]
    }
   ],
   "source": [
    "single_review = \"This is a brilliant and fantastic movie!, I really love it.\"\n",
    "tokenized_review = tokenizer_object.texts_to_sequences([single_review])\n",
    "padded_review = pad_sequences(tokenized_review, maxlen=max_len)\n",
    "\n",
    "# Make a prediction for the single review\n",
    "prediction = snn_model.predict(padded_review)\n",
    "print(prediction)"
   ]
  },
  {
   "cell_type": "code",
   "execution_count": 30,
   "id": "g4OtKAoOLeZ9",
   "metadata": {
    "id": "g4OtKAoOLeZ9"
   },
   "outputs": [
    {
     "name": "stdout",
     "output_type": "stream",
     "text": [
      "Review is positive!\n"
     ]
    }
   ],
   "source": [
    "threshold = 0.5\n",
    "if prediction[0, 0] > threshold:\n",
    "    print(\"Review is positive!\")\n",
    "else:\n",
    "    print(\"Review is negative.\")"
   ]
  },
  {
   "cell_type": "markdown",
   "id": "dMQLjm7mNdx-",
   "metadata": {
    "id": "dMQLjm7mNdx-"
   },
   "source": [
    "# Convolutional Neural Network"
   ]
  },
  {
   "cell_type": "code",
   "execution_count": 31,
   "id": "Wp6-PZI1NLjY",
   "metadata": {
    "id": "Wp6-PZI1NLjY"
   },
   "outputs": [],
   "source": [
    "# Neural Network architecture\n",
    "\n",
    "cnn_model = Sequential()\n",
    "\n",
    "embedding_layer = Embedding(vocab_length, 100, weights=[embedding_matrix], input_length=max_len , trainable=False)\n",
    "cnn_model.add(embedding_layer)\n",
    "\n",
    "cnn_model.add(Conv1D(128, 5, activation='relu'))\n",
    "cnn_model.add(GlobalMaxPooling1D())\n",
    "cnn_model.add(Dense(1, activation='sigmoid'))"
   ]
  },
  {
   "cell_type": "code",
   "execution_count": 32,
   "id": "zkfEtSvUQ2px",
   "metadata": {
    "id": "zkfEtSvUQ2px"
   },
   "outputs": [
    {
     "name": "stdout",
     "output_type": "stream",
     "text": [
      "Model: \"sequential_1\"\n",
      "_________________________________________________________________\n",
      " Layer (type)                Output Shape              Param #   \n",
      "=================================================================\n",
      " embedding_1 (Embedding)     (None, 100, 100)          9239400   \n",
      "                                                                 \n",
      " conv1d (Conv1D)             (None, 96, 128)           64128     \n",
      "                                                                 \n",
      " global_max_pooling1d (Glob  (None, 128)               0         \n",
      " alMaxPooling1D)                                                 \n",
      "                                                                 \n",
      " dense_1 (Dense)             (None, 1)                 129       \n",
      "                                                                 \n",
      "=================================================================\n",
      "Total params: 9303657 (35.49 MB)\n",
      "Trainable params: 64257 (251.00 KB)\n",
      "Non-trainable params: 9239400 (35.25 MB)\n",
      "_________________________________________________________________\n",
      "None\n"
     ]
    }
   ],
   "source": [
    "cnn_model.compile(optimizer='adam', loss='binary_crossentropy', metrics=['acc'])\n",
    "print(cnn_model.summary())"
   ]
  },
  {
   "cell_type": "code",
   "execution_count": 33,
   "id": "5y1yVRzDQ61S",
   "metadata": {
    "id": "5y1yVRzDQ61S"
   },
   "outputs": [
    {
     "name": "stdout",
     "output_type": "stream",
     "text": [
      "Epoch 1/6\n",
      "250/250 [==============================] - 8s 31ms/step - loss: 0.4877 - acc: 0.7654 - val_loss: 0.3879 - val_acc: 0.8291\n",
      "Epoch 2/6\n",
      "250/250 [==============================] - 8s 33ms/step - loss: 0.3491 - acc: 0.8520 - val_loss: 0.3523 - val_acc: 0.8447\n",
      "Epoch 3/6\n",
      "250/250 [==============================] - 9s 36ms/step - loss: 0.2920 - acc: 0.8825 - val_loss: 0.3437 - val_acc: 0.8478\n",
      "Epoch 4/6\n",
      "250/250 [==============================] - 10s 42ms/step - loss: 0.2501 - acc: 0.9062 - val_loss: 0.3747 - val_acc: 0.8321\n",
      "Epoch 5/6\n",
      "250/250 [==============================] - 9s 35ms/step - loss: 0.2095 - acc: 0.9258 - val_loss: 0.3314 - val_acc: 0.8530\n",
      "Epoch 6/6\n",
      "250/250 [==============================] - 8s 31ms/step - loss: 0.1746 - acc: 0.9444 - val_loss: 0.3452 - val_acc: 0.8485\n"
     ]
    }
   ],
   "source": [
    "cnn_model_history = cnn_model.fit(X_train, y_train, batch_size=128, epochs=6, verbose=1, validation_split=0.2)"
   ]
  },
  {
   "cell_type": "code",
   "execution_count": 34,
   "id": "WoErOcQ9RCA3",
   "metadata": {
    "id": "WoErOcQ9RCA3"
   },
   "outputs": [
    {
     "name": "stdout",
     "output_type": "stream",
     "text": [
      "313/313 [==============================] - 2s 6ms/step - loss: 0.3434 - acc: 0.8464\n"
     ]
    }
   ],
   "source": [
    "score = cnn_model.evaluate(X_test, y_test, verbose=1)"
   ]
  },
  {
   "cell_type": "code",
   "execution_count": 35,
   "id": "fLtPX-tlRzXI",
   "metadata": {
    "id": "fLtPX-tlRzXI"
   },
   "outputs": [
    {
     "name": "stdout",
     "output_type": "stream",
     "text": [
      "Test Score: 0.3434046506881714\n",
      "Test Accuracy: 0.8464000225067139\n"
     ]
    }
   ],
   "source": [
    "print(\"Test Score:\", score[0])\n",
    "print(\"Test Accuracy:\", score[1])"
   ]
  },
  {
   "cell_type": "code",
   "execution_count": 39,
   "id": "SJMi2_plR3nH",
   "metadata": {
    "id": "SJMi2_plR3nH"
   },
   "outputs": [
    {
     "data": {
      "image/png": "[encoded data removed]",
      "text/plain": [
       "<Figure size 640x480 with 1 Axes>"
      ]
     },
     "metadata": {},
     "output_type": "display_data"
    },
    {
     "data": {
      "image/png": "[encoded data removed]",
      "text/plain": [
       "<Figure size 640x480 with 1 Axes>"
      ]
     },
     "metadata": {},
     "output_type": "display_data"
    }
   ],
   "source": [
    "plt.plot(cnn_model_history.history['acc'])\n",
    "plt.plot(cnn_model_history.history['val_acc'])\n",
    "\n",
    "plt.title('Model Accuracy')\n",
    "plt.xlabel('Epochs')\n",
    "plt.ylabel('Accuracy')\n",
    "plt.legend(['train','test'],loc ='upper left')\n",
    "plt.show()\n",
    "\n",
    "plt.plot(cnn_model_history.history['loss'])\n",
    "plt.plot(cnn_model_history.history['val_loss'])\n",
    "\n",
    "plt.title('Model Loss')\n",
    "plt.xlabel('Epochs')\n",
    "plt.ylabel('Loss')\n",
    "plt.legend(['train','test'],loc ='upper left')\n",
    "plt.show()"
   ]
  },
  {
   "cell_type": "code",
   "execution_count": 40,
   "id": "FYBO43RGSurh",
   "metadata": {
    "id": "FYBO43RGSurh"
   },
   "outputs": [
    {
     "name": "stdout",
     "output_type": "stream",
     "text": [
      "1/1 [==============================] - 0s 31ms/step\n",
      "[[0.999931]]\n"
     ]
    }
   ],
   "source": [
    "#Making a Prediction\n",
    "single_review = \"This is a brilliant and fantastic movie!, I really love it.\"\n",
    "tokenized_review = tokenizer_object.texts_to_sequences([single_review])\n",
    "padded_review = pad_sequences(tokenized_review, maxlen=max_len)\n",
    "\n",
    "# Make a prediction for the single review\n",
    "prediction = cnn_model.predict(padded_review)\n",
    "print(prediction)"
   ]
  },
  {
   "cell_type": "code",
   "execution_count": 41,
   "id": "ggwURSuQTMNt",
   "metadata": {
    "id": "ggwURSuQTMNt"
   },
   "outputs": [
    {
     "name": "stdout",
     "output_type": "stream",
     "text": [
      "This is a Positive Review\n"
     ]
    }
   ],
   "source": [
    "threshold = 0.5\n",
    "if prediction[0,0] > 0.5:\n",
    "  print(\"This is a Positive Review\")\n",
    "else:\n",
    "  print(\"This is a Negative Review\")"
   ]
  },
  {
   "cell_type": "markdown",
   "id": "QO8caURnZj0i",
   "metadata": {
    "id": "QO8caURnZj0i"
   },
   "source": [
    "# LSTM Model\n"
   ]
  },
  {
   "cell_type": "code",
   "execution_count": 42,
   "id": "JYjnXbQgTvL3",
   "metadata": {
    "id": "JYjnXbQgTvL3"
   },
   "outputs": [],
   "source": [
    "lstm_model = Sequential()\n",
    "embedding_layer = Embedding(vocab_length,100,weights = [embedding_matrix], input_length = max_len, trainable = False)\n",
    "lstm_model.add(embedding_layer)\n",
    "lstm_model.add(LSTM(128))\n",
    "lstm_model.add(Dense(1,activation = 'sigmoid'))\n"
   ]
  },
  {
   "cell_type": "code",
   "execution_count": 43,
   "id": "mjVLsjZibLTf",
   "metadata": {
    "id": "mjVLsjZibLTf"
   },
   "outputs": [
    {
     "name": "stdout",
     "output_type": "stream",
     "text": [
      "Model: \"sequential_2\"\n",
      "_________________________________________________________________\n",
      " Layer (type)                Output Shape              Param #   \n",
      "=================================================================\n",
      " embedding_2 (Embedding)     (None, 100, 100)          9239400   \n",
      "                                                                 \n",
      " lstm (LSTM)                 (None, 128)               117248    \n",
      "                                                                 \n",
      " dense_2 (Dense)             (None, 1)                 129       \n",
      "                                                                 \n",
      "=================================================================\n",
      "Total params: 9356777 (35.69 MB)\n",
      "Trainable params: 117377 (458.50 KB)\n",
      "Non-trainable params: 9239400 (35.25 MB)\n",
      "_________________________________________________________________\n",
      "None\n"
     ]
    }
   ],
   "source": [
    "lstm_model.compile(optimizer='adam', loss='binary_crossentropy', metrics=['acc'])\n",
    "print(lstm_model.summary())"
   ]
  },
  {
   "cell_type": "code",
   "execution_count": 44,
   "id": "_7DX89mSbT12",
   "metadata": {
    "id": "_7DX89mSbT12"
   },
   "outputs": [
    {
     "name": "stdout",
     "output_type": "stream",
     "text": [
      "Epoch 1/6\n",
      "250/250 [==============================] - 39s 147ms/step - loss: 0.4993 - acc: 0.7554 - val_loss: 0.4111 - val_acc: 0.8127\n",
      "Epoch 2/6\n",
      "250/250 [==============================] - 34s 137ms/step - loss: 0.4121 - acc: 0.8180 - val_loss: 0.3700 - val_acc: 0.8418\n",
      "Epoch 3/6\n",
      "250/250 [==============================] - 36s 142ms/step - loss: 0.3682 - acc: 0.8397 - val_loss: 0.3498 - val_acc: 0.8556\n",
      "Epoch 4/6\n",
      "250/250 [==============================] - 36s 143ms/step - loss: 0.3451 - acc: 0.8530 - val_loss: 0.3383 - val_acc: 0.8569\n",
      "Epoch 5/6\n",
      "250/250 [==============================] - 40s 159ms/step - loss: 0.3241 - acc: 0.8649 - val_loss: 0.3331 - val_acc: 0.8630\n",
      "Epoch 6/6\n",
      "250/250 [==============================] - 38s 154ms/step - loss: 0.3088 - acc: 0.8715 - val_loss: 0.3339 - val_acc: 0.8684\n"
     ]
    }
   ],
   "source": [
    "lstm_model_history = lstm_model.fit(X_train, y_train, batch_size=128, epochs=6, verbose=1, validation_split=0.2)"
   ]
  },
  {
   "cell_type": "code",
   "execution_count": 45,
   "id": "4O5zoqn5bZz7",
   "metadata": {
    "id": "4O5zoqn5bZz7"
   },
   "outputs": [
    {
     "name": "stdout",
     "output_type": "stream",
     "text": [
      "313/313 [==============================] - 6s 18ms/step - loss: 0.3356 - acc: 0.8649\n"
     ]
    }
   ],
   "source": [
    "score = lstm_model.evaluate(X_test, y_test, verbose=1)"
   ]
  },
  {
   "cell_type": "code",
   "execution_count": 46,
   "id": "nd3wRZ7kbiBe",
   "metadata": {
    "id": "nd3wRZ7kbiBe"
   },
   "outputs": [
    {
     "name": "stdout",
     "output_type": "stream",
     "text": [
      "Test Score: 0.3356218934059143\n",
      "Test Accuracy: 0.8648999929428101\n"
     ]
    }
   ],
   "source": [
    "print(\"Test Score:\", score[0])\n",
    "print(\"Test Accuracy:\", score[1])"
   ]
  },
  {
   "cell_type": "code",
   "execution_count": 47,
   "id": "Wy9PQm-1bpdU",
   "metadata": {
    "id": "Wy9PQm-1bpdU"
   },
   "outputs": [
    {
     "data": {
      "image/png": "[encoded data removed]",
      "text/plain": [
       "<Figure size 640x480 with 1 Axes>"
      ]
     },
     "metadata": {},
     "output_type": "display_data"
    },
    {
     "data": {
      "image/png": "[encoded data removed]",
      "text/plain": [
       "<Figure size 640x480 with 1 Axes>"
      ]
     },
     "metadata": {},
     "output_type": "display_data"
    }
   ],
   "source": [
    "\n",
    "import matplotlib.pyplot as plt\n",
    "\n",
    "plt.plot(lstm_model_history.history['acc'])\n",
    "plt.plot(lstm_model_history.history['val_acc'])\n",
    "\n",
    "plt.title('model accuracy')\n",
    "plt.ylabel('accuracy')\n",
    "plt.xlabel('epoch')\n",
    "plt.legend(['train','test'], loc='upper left')\n",
    "plt.show()\n",
    "\n",
    "plt.plot(lstm_model_history.history['loss'])\n",
    "plt.plot(lstm_model_history.history['val_loss'])\n",
    "\n",
    "plt.title('model loss')\n",
    "plt.ylabel('loss')\n",
    "plt.xlabel('epoch')\n",
    "plt.legend(['train','test'], loc='upper left')\n",
    "plt.show()"
   ]
  },
  {
   "cell_type": "code",
   "execution_count": 56,
   "id": "VLY66JMcdIMJ",
   "metadata": {
    "id": "VLY66JMcdIMJ"
   },
   "outputs": [
    {
     "name": "stdout",
     "output_type": "stream",
     "text": [
      "1/1 [==============================] - 1s 600ms/step\n",
      "[[0.96236247]]\n"
     ]
    }
   ],
   "source": [
    "#Making a Prediction\n",
    "single_review = \"This is a brilliant and fantastic movie!, I really love it.\"\n",
    "tokenized_review = tokenizer_object.texts_to_sequences([single_review])\n",
    "padded_review = pad_sequences(tokenized_review, maxlen=max_len)\n",
    "\n",
    "# Make a prediction for the single review\n",
    "prediction = lstm_model.predict(padded_review)\n",
    "print(prediction)"
   ]
  },
  {
   "cell_type": "code",
   "execution_count": 49,
   "id": "5gsZ5Ab_eolL",
   "metadata": {
    "id": "5gsZ5Ab_eolL"
   },
   "outputs": [
    {
     "name": "stdout",
     "output_type": "stream",
     "text": [
      "This is a Positive Review\n"
     ]
    }
   ],
   "source": [
    "threshold = 0.5\n",
    "if prediction[0,0] > 0.5:\n",
    "  print(\"This is a Positive Review\")\n",
    "else:\n",
    "  print(\"This is a Negative Review\")"
   ]
  },
  {
   "cell_type": "markdown",
   "id": "1WHkJRz6ej7C",
   "metadata": {
    "id": "1WHkJRz6ej7C"
   },
   "source": [
    "# Making Predictions on live IMdb Data\n"
   ]
  },
  {
   "cell_type": "code",
   "execution_count": 51,
   "id": "ke8joyF_djZH",
   "metadata": {
    "id": "ke8joyF_djZH"
   },
   "outputs": [
    {
     "data": {
      "text/html": [
       "<div>\n",
       "<style scoped>\n",
       "    .dataframe tbody tr th:only-of-type {\n",
       "        vertical-align: middle;\n",
       "    }\n",
       "\n",
       "    .dataframe tbody tr th {\n",
       "        vertical-align: top;\n",
       "    }\n",
       "\n",
       "    .dataframe thead th {\n",
       "        text-align: right;\n",
       "    }\n",
       "</style>\n",
       "<table border=\"1\" class=\"dataframe\">\n",
       "  <thead>\n",
       "    <tr style=\"text-align: right;\">\n",
       "      <th></th>\n",
       "      <th>Unnamed: 0</th>\n",
       "      <th>Movie</th>\n",
       "      <th>Review Text</th>\n",
       "      <th>IMDb Rating</th>\n",
       "    </tr>\n",
       "  </thead>\n",
       "  <tbody>\n",
       "    <tr>\n",
       "      <th>0</th>\n",
       "      <td>0</td>\n",
       "      <td>Ex Machina</td>\n",
       "      <td>Intelligent Movie.\\nThis movie is obviously al...</td>\n",
       "      <td>9</td>\n",
       "    </tr>\n",
       "    <tr>\n",
       "      <th>1</th>\n",
       "      <td>1</td>\n",
       "      <td>Ex Machina</td>\n",
       "      <td>Extraordinary and thought-provoking.\\n'Ex mach...</td>\n",
       "      <td>10</td>\n",
       "    </tr>\n",
       "    <tr>\n",
       "      <th>2</th>\n",
       "      <td>2</td>\n",
       "      <td>Ex Machina</td>\n",
       "      <td>Poor story, only reasonable otherwise.\\nIf I h...</td>\n",
       "      <td>3</td>\n",
       "    </tr>\n",
       "    <tr>\n",
       "      <th>3</th>\n",
       "      <td>3</td>\n",
       "      <td>Ex Machina</td>\n",
       "      <td>Had Great Potential.\\nThis movie is one of the...</td>\n",
       "      <td>1</td>\n",
       "    </tr>\n",
       "    <tr>\n",
       "      <th>4</th>\n",
       "      <td>4</td>\n",
       "      <td>Eternals</td>\n",
       "      <td>Amazing visuals and philosophical concepts!\\n\\...</td>\n",
       "      <td>10</td>\n",
       "    </tr>\n",
       "    <tr>\n",
       "      <th>5</th>\n",
       "      <td>5</td>\n",
       "      <td>Eternals</td>\n",
       "      <td>Worst MCU film ever\\n\\nFollowing the events of...</td>\n",
       "      <td>3</td>\n",
       "    </tr>\n",
       "  </tbody>\n",
       "</table>\n",
       "</div>"
      ],
      "text/plain": [
       "   Unnamed: 0       Movie                                        Review Text  \\\n",
       "0           0  Ex Machina  Intelligent Movie.\\nThis movie is obviously al...   \n",
       "1           1  Ex Machina  Extraordinary and thought-provoking.\\n'Ex mach...   \n",
       "2           2  Ex Machina  Poor story, only reasonable otherwise.\\nIf I h...   \n",
       "3           3  Ex Machina  Had Great Potential.\\nThis movie is one of the...   \n",
       "4           4    Eternals  Amazing visuals and philosophical concepts!\\n\\...   \n",
       "5           5    Eternals  Worst MCU film ever\\n\\nFollowing the events of...   \n",
       "\n",
       "   IMDb Rating  \n",
       "0            9  \n",
       "1           10  \n",
       "2            3  \n",
       "3            1  \n",
       "4           10  \n",
       "5            3  "
      ]
     },
     "execution_count": 51,
     "metadata": {},
     "output_type": "execute_result"
    }
   ],
   "source": [
    "sample_reviews = pd.read_csv(\"a3_IMDb_Unseen_Reviews.csv\")\n",
    "\n",
    "sample_reviews.head(6)"
   ]
  },
  {
   "cell_type": "code",
   "execution_count": 52,
   "id": "d475274e",
   "metadata": {},
   "outputs": [],
   "source": [
    "unseen_reviews = sample_reviews['Review Text']\n",
    "unseen_processed = []\n",
    "for review in unseen_reviews:\n",
    "    review = preprocess_text(review)\n",
    "    unseen_processed.append(review)"
   ]
  },
  {
   "cell_type": "code",
   "execution_count": 55,
   "id": "be048563",
   "metadata": {},
   "outputs": [],
   "source": [
    "#tokenize using earlier tokenizer\n",
    "unseen_tokenize = tokenizer_object.texts_to_sequences(unseen_processed)\n",
    "\n",
    "unseen_padded = pad_sequences(unseen_tokenize, padding='post', maxlen=max_len)"
   ]
  },
  {
   "cell_type": "code",
   "execution_count": 57,
   "id": "6e827c39",
   "metadata": {},
   "outputs": [
    {
     "name": "stdout",
     "output_type": "stream",
     "text": [
      "1/1 [==============================] - 0s 48ms/step\n"
     ]
    },
    {
     "data": {
      "text/plain": [
       "array([[0.92891395],\n",
       "       [0.9914617 ],\n",
       "       [0.19854426],\n",
       "       [0.90221405],\n",
       "       [0.9755099 ],\n",
       "       [0.03381387]], dtype=float32)"
      ]
     },
     "execution_count": 57,
     "metadata": {},
     "output_type": "execute_result"
    }
   ],
   "source": [
    "unseen_sentiments = lstm_model.predict(unseen_padded)\n",
    "unseen_sentiments"
   ]
  },
  {
   "cell_type": "code",
   "execution_count": 58,
   "id": "128aafe2",
   "metadata": {},
   "outputs": [
    {
     "data": {
      "text/html": [
       "<div>\n",
       "<style scoped>\n",
       "    .dataframe tbody tr th:only-of-type {\n",
       "        vertical-align: middle;\n",
       "    }\n",
       "\n",
       "    .dataframe tbody tr th {\n",
       "        vertical-align: top;\n",
       "    }\n",
       "\n",
       "    .dataframe thead th {\n",
       "        text-align: right;\n",
       "    }\n",
       "</style>\n",
       "<table border=\"1\" class=\"dataframe\">\n",
       "  <thead>\n",
       "    <tr style=\"text-align: right;\">\n",
       "      <th></th>\n",
       "      <th>Movie</th>\n",
       "      <th>Review Text</th>\n",
       "      <th>IMDb Rating</th>\n",
       "      <th>Predicted Sentiments</th>\n",
       "    </tr>\n",
       "  </thead>\n",
       "  <tbody>\n",
       "    <tr>\n",
       "      <th>0</th>\n",
       "      <td>Ex Machina</td>\n",
       "      <td>Intelligent Movie.\\nThis movie is obviously al...</td>\n",
       "      <td>9</td>\n",
       "      <td>9.3</td>\n",
       "    </tr>\n",
       "    <tr>\n",
       "      <th>1</th>\n",
       "      <td>Ex Machina</td>\n",
       "      <td>Extraordinary and thought-provoking.\\n'Ex mach...</td>\n",
       "      <td>10</td>\n",
       "      <td>9.9</td>\n",
       "    </tr>\n",
       "    <tr>\n",
       "      <th>2</th>\n",
       "      <td>Ex Machina</td>\n",
       "      <td>Poor story, only reasonable otherwise.\\nIf I h...</td>\n",
       "      <td>3</td>\n",
       "      <td>2.0</td>\n",
       "    </tr>\n",
       "    <tr>\n",
       "      <th>3</th>\n",
       "      <td>Ex Machina</td>\n",
       "      <td>Had Great Potential.\\nThis movie is one of the...</td>\n",
       "      <td>1</td>\n",
       "      <td>9.0</td>\n",
       "    </tr>\n",
       "    <tr>\n",
       "      <th>4</th>\n",
       "      <td>Eternals</td>\n",
       "      <td>Amazing visuals and philosophical concepts!\\n\\...</td>\n",
       "      <td>10</td>\n",
       "      <td>9.8</td>\n",
       "    </tr>\n",
       "    <tr>\n",
       "      <th>5</th>\n",
       "      <td>Eternals</td>\n",
       "      <td>Worst MCU film ever\\n\\nFollowing the events of...</td>\n",
       "      <td>3</td>\n",
       "      <td>0.3</td>\n",
       "    </tr>\n",
       "  </tbody>\n",
       "</table>\n",
       "</div>"
      ],
      "text/plain": [
       "        Movie                                        Review Text  IMDb Rating  \\\n",
       "0  Ex Machina  Intelligent Movie.\\nThis movie is obviously al...            9   \n",
       "1  Ex Machina  Extraordinary and thought-provoking.\\n'Ex mach...           10   \n",
       "2  Ex Machina  Poor story, only reasonable otherwise.\\nIf I h...            3   \n",
       "3  Ex Machina  Had Great Potential.\\nThis movie is one of the...            1   \n",
       "4    Eternals  Amazing visuals and philosophical concepts!\\n\\...           10   \n",
       "5    Eternals  Worst MCU film ever\\n\\nFollowing the events of...            3   \n",
       "\n",
       "   Predicted Sentiments  \n",
       "0                   9.3  \n",
       "1                   9.9  \n",
       "2                   2.0  \n",
       "3                   9.0  \n",
       "4                   9.8  \n",
       "5                   0.3  "
      ]
     },
     "execution_count": 58,
     "metadata": {},
     "output_type": "execute_result"
    }
   ],
   "source": [
    "# Writing model output file back to Google Drive\n",
    "\n",
    "sample_reviews['Predicted Sentiments'] = np.round(unseen_sentiments*10,1)\n",
    "\n",
    "df_prediction_sentiments = pd.DataFrame(sample_reviews['Predicted Sentiments'], columns = ['Predicted Sentiments'])\n",
    "df_movie                 = pd.DataFrame(sample_reviews['Movie'], columns = ['Movie'])\n",
    "df_review_text           = pd.DataFrame(sample_reviews['Review Text'], columns = ['Review Text'])\n",
    "df_imdb_rating           = pd.DataFrame(sample_reviews['IMDb Rating'], columns = ['IMDb Rating'])\n",
    "\n",
    "\n",
    "dfx=pd.concat([df_movie, df_review_text, df_imdb_rating, df_prediction_sentiments], axis=1)\n",
    "\n",
    "dfx.to_csv(\"./c2_IMDb_Unseen_Predictions.csv\", sep=',', encoding='UTF-8')\n",
    "\n",
    "dfx.head(6)"
   ]
  },
  {
   "cell_type": "code",
   "execution_count": null,
   "id": "39918e42",
   "metadata": {},
   "outputs": [],
   "source": []
  },
  {
   "cell_type": "markdown",
   "id": "JY7u4X-tehni",
   "metadata": {
    "id": "JY7u4X-tehni"
   },
   "source": []
  }
 ],
 "metadata": {
  "colab": {
   "provenance": []
  },
  "kernelspec": {
   "display_name": "Python 3 (ipykernel)",
   "language": "python",
   "name": "python3"
  },
  "language_info": {
   "codemirror_mode": {
    "name": "ipython",
    "version": 3
   },
   "file_extension": ".py",
   "mimetype": "text/x-python",
   "name": "python",
   "nbconvert_exporter": "python",
   "pygments_lexer": "ipython3",
   "version": "3.11.5"
  }
 },
 "nbformat": 4,
 "nbformat_minor": 5
}
